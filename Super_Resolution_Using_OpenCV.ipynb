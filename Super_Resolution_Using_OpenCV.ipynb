{
  "cells": [
    {
      "cell_type": "markdown",
      "metadata": {
        "id": "3374VnJVXIIR"
      },
      "source": [
        "## Import Modules"
      ]
    },
    {
      "cell_type": "code",
      "execution_count": null,
      "metadata": {
        "id": "Fg-VrGH7XIIV"
      },
      "outputs": [],
      "source": [
        "# links to download models\n",
        "https://github.com/Saafke/EDSR_Tensorflow/blob/master/models/\n",
        "https://github.com/fannymonori/TF-LapSRN/blob/master/export/LapSRN_x8.pb"
      ]
    },
    {
      "cell_type": "code",
      "execution_count": null,
      "metadata": {
        "id": "Wo4NMpCTXIIU"
      },
      "outputs": [],
      "source": [
        "# Import the OpenCV library, a powerful computer vision library used for image and video processing\n",
        "import cv2\n",
        "\n",
        "# Import the dnn_superres module from OpenCV, which provides tools for performing deep learning-based super-resolution\n",
        "# This module allows for enhancing image resolution using pre-trained deep learning models\n",
        "from cv2 import dnn_superres\n"
      ]
    },
    {
      "cell_type": "markdown",
      "metadata": {
        "id": "aSKuDAfjXIIW"
      },
      "source": [
        "## EDSR"
      ]
    },
    {
      "cell_type": "code",
      "execution_count": null,
      "metadata": {
        "id": "F7sI3UWnXIIW"
      },
      "outputs": [],
      "source": [
        "# Initialize the super resolution object using the DnnSuperResImpl_create method\n",
        "# This creates an instance of the DnnSuperResImpl class, which will be used to apply super resolution to images.\n",
        "sr = dnn_superres.DnnSuperResImpl_create()\n",
        "\n",
        "# Specify the path to the pre-trained super resolution model file\n",
        "# In this case, 'EDSR_x4.pb' is a model that enhances image resolution by a factor of 4.\n",
        "path = 'EDSR_x4.pb'\n",
        "\n",
        "# Load the specified model into the super resolution object\n",
        "# This prepares the DnnSuperResImpl instance to use the EDSR model for image upscaling.\n",
        "sr.readModel(path)\n",
        "\n",
        "# Set the model type and the scaling factor for super resolution\n",
        "# Here, 'edsr' indicates the use of the Enhanced Deep Residual Network model,\n",
        "# and '4' specifies that the input image will be upscaled by a factor of 4.\n",
        "sr.setModel('edsr', 4)\n"
      ]
    },
    {
      "cell_type": "code",
      "execution_count": null,
      "metadata": {
        "id": "ALGq0NPRXIIW"
      },
      "outputs": [],
      "source": [
        "# If you have CUDA support available, set the backend to use CUDA for optimized performance\n",
        "# This allows the DNN module to leverage GPU acceleration for faster computation.\n",
        "sr.setPreferableBackend(cv2.dnn.DNN_BACKEND_CUDA)\n",
        "\n",
        "# Set the target to CUDA for the DNN module\n",
        "# This specifies that the operations will be executed on the GPU,\n",
        "# which can significantly speed up the processing time compared to CPU execution.\n",
        "sr.setPreferableTarget(cv2.dnn.DNN_TARGET_CUDA)\n"
      ]
    },
    {
      "cell_type": "code",
      "execution_count": null,
      "metadata": {
        "id": "py4i65zsXIIX"
      },
      "outputs": [],
      "source": [
        "# Load the image from the specified file path using OpenCV's imread function\n",
        "# The image file 'test.png' will be read into the variable 'image' as a NumPy array.\n",
        "# Make sure the file path is correct; otherwise, the function will return None.\n",
        "image = cv2.imread('test.png')"
      ]
    },
    {
      "cell_type": "code",
      "execution_count": null,
      "metadata": {
        "id": "eITtzrX_XIIX",
        "outputId": "bbaaac2d-cd0a-4990-9181-262e351815cb"
      },
      "outputs": [
        {
          "data": {
            "text/plain": [
              "True"
            ]
          },
          "execution_count": 5,
          "metadata": {},
          "output_type": "execute_result"
        }
      ],
      "source": [
        "# Upsample the image using the super resolution model\n",
        "# The 'upsample' method applies the deep learning model to the input image,\n",
        "# enhancing its resolution based on the previously set model and scaling factor.\n",
        "upscaled = sr.upsample(image)\n",
        "\n",
        "# Save the upscaled image to a specified file path using OpenCV's imwrite function\n",
        "# The upscaled image will be written as 'upscaled_test.png'.\n",
        "# Ensure that the desired directory has write permissions to save the file successfully.\n",
        "cv2.imwrite('upscaled_test.png', upscaled)\n"
      ]
    },
    {
      "cell_type": "markdown",
      "source": [
        "Bicubic Method"
      ],
      "metadata": {
        "id": "HHJeGGN-YWLF"
      }
    },
    {
      "cell_type": "code",
      "execution_count": null,
      "metadata": {
        "id": "NKDdt0rTXIIY",
        "outputId": "c41bb1a1-83a2-42d5-f9ea-846543a49af1"
      },
      "outputs": [
        {
          "data": {
            "text/plain": [
              "True"
            ]
          },
          "execution_count": 6,
          "metadata": {},
          "output_type": "execute_result"
        }
      ],
      "source": [
        "# traditional method - bicubic\n",
        "bicubic = cv2.resize(image, (upscaled.shape[1], upscaled.shape[0]), interpolation=cv2.INTER_CUBIC)\n",
        "# save the image\n",
        "cv2.imwrite('bicubic_test.png', bicubic)"
      ]
    },
    {
      "cell_type": "markdown",
      "metadata": {
        "id": "pGrHE694XIIY"
      },
      "source": [
        "## LapSRN"
      ]
    },
    {
      "cell_type": "code",
      "execution_count": null,
      "metadata": {
        "id": "ObNWVbmtXIIY"
      },
      "outputs": [],
      "source": [
        "# initialize super resolution object\n",
        "sr = dnn_superres.DnnSuperResImpl_create()\n",
        "\n",
        "# read the model\n",
        "path = 'LapSRN_x8.pb'\n",
        "sr.readModel(path)\n",
        "\n",
        "# set the model and scale\n",
        "sr.setModel('lapsrn', 8)"
      ]
    },
    {
      "cell_type": "code",
      "execution_count": null,
      "metadata": {
        "id": "aagYaJiXXIIZ"
      },
      "outputs": [],
      "source": [
        "# if you have cuda support\n",
        "sr.setPreferableBackend(cv2.dnn.DNN_BACKEND_CUDA)\n",
        "sr.setPreferableTarget(cv2.dnn.DNN_TARGET_CUDA)"
      ]
    },
    {
      "cell_type": "code",
      "execution_count": null,
      "metadata": {
        "id": "_f7JYVZnXIIZ"
      },
      "outputs": [],
      "source": [
        "# load the image\n",
        "image = cv2.imread('test.png')"
      ]
    },
    {
      "cell_type": "code",
      "execution_count": null,
      "metadata": {
        "id": "vVyFnDzQXIIZ",
        "outputId": "00fd75a3-7bed-4669-9884-a0e9ab8fe5e7"
      },
      "outputs": [
        {
          "data": {
            "text/plain": [
              "True"
            ]
          },
          "execution_count": 10,
          "metadata": {},
          "output_type": "execute_result"
        }
      ],
      "source": [
        "# upsample the image\n",
        "upscaled = sr.upsample(image)\n",
        "# save the upscaled image\n",
        "cv2.imwrite('upscaled_test_lapsrn.png', upscaled)"
      ]
    },
    {
      "cell_type": "code",
      "execution_count": null,
      "metadata": {
        "id": "N2krv2TtXIIZ",
        "outputId": "0817f0d6-b22e-4e48-df21-38c9ddf4e7d7"
      },
      "outputs": [
        {
          "data": {
            "text/plain": [
              "True"
            ]
          },
          "execution_count": 11,
          "metadata": {},
          "output_type": "execute_result"
        }
      ],
      "source": [
        "# traditional method - bicubic\n",
        "bicubic = cv2.resize(image, (upscaled.shape[1], upscaled.shape[0]), interpolation=cv2.INTER_CUBIC)\n",
        "# save the image\n",
        "cv2.imwrite('bicubic_test_8x.png', bicubic)"
      ]
    }
  ],
  "metadata": {
    "kernelspec": {
      "display_name": "Python 3",
      "language": "python",
      "name": "python3"
    },
    "language_info": {
      "codemirror_mode": {
        "name": "ipython",
        "version": 3
      },
      "file_extension": ".py",
      "mimetype": "text/x-python",
      "name": "python",
      "nbconvert_exporter": "python",
      "pygments_lexer": "ipython3",
      "version": "3.8.3"
    },
    "colab": {
      "provenance": []
    }
  },
  "nbformat": 4,
  "nbformat_minor": 0
}